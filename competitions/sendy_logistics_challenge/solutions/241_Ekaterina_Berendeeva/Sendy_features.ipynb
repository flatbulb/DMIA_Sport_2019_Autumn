{
 "cells": [
  {
   "cell_type": "code",
   "execution_count": null,
   "metadata": {
    "ExecuteTime": {
     "end_time": "2019-10-27T19:42:28.154636Z",
     "start_time": "2019-10-27T19:42:28.128651Z"
    }
   },
   "outputs": [],
   "source": [
    "import pandas as pd\n",
    "import numpy as np\n",
    "from geopy.distance import geodesic, great_circle\n",
    "import lightgbm as lgb\n",
    "\n",
    "from sklearn.metrics import mean_squared_error, mean_squared_log_error\n",
    "from hyperopt import hp, tpe\n",
    "from hyperopt.fmin import fmin\n",
    "from sklearn.model_selection import cross_val_score, cross_val_predict, KFold\n",
    "from sklearn import preprocessing\n",
    "\n",
    "from datetime import date\n",
    "from routingpy import Graphhopper\n",
    "from tqdm import tqdm\n",
    "from sklearn.preprocessing import OneHotEncoder"
   ]
  },
  {
   "cell_type": "code",
   "execution_count": null,
   "metadata": {
    "ExecuteTime": {
     "end_time": "2019-10-27T19:42:29.280035Z",
     "start_time": "2019-10-27T19:42:29.096094Z"
    }
   },
   "outputs": [],
   "source": [
    "df_train_full = pd.read_csv('Train.csv')\n",
    "df_test = pd.read_csv('Test.csv')"
   ]
  },
  {
   "cell_type": "code",
   "execution_count": null,
   "metadata": {
    "ExecuteTime": {
     "end_time": "2019-10-27T19:42:30.125552Z",
     "start_time": "2019-10-27T19:42:30.111559Z"
    }
   },
   "outputs": [],
   "source": [
    "client = Graphhopper(api_key='d6a565a3-71c5-4dbf-8d24-7608c1cf39d0')"
   ]
  },
  {
   "cell_type": "code",
   "execution_count": null,
   "metadata": {
    "ExecuteTime": {
     "end_time": "2019-10-27T19:52:57.994907Z",
     "start_time": "2019-10-27T19:42:30.964068Z"
    }
   },
   "outputs": [],
   "source": [
    "for df_ in [df_train_full, df_test]:\n",
    "    try:\n",
    "        df_['dur_osrm'] =[client.directions(locations=[[df_['Pickup Long'].iloc[i], df_['Pickup Lat'].iloc[i]], [df_['Destination Long'].iloc[i], df_['Destination Lat'].iloc[i]]], profile='scooter').duration for i in range(len(df_))]\n",
    "    except:\n",
    "        print(i)"
   ]
  },
  {
   "cell_type": "code",
   "execution_count": null,
   "metadata": {
    "ExecuteTime": {
     "end_time": "2019-10-27T19:52:58.009899Z",
     "start_time": "2019-10-27T19:46:31.523Z"
    }
   },
   "outputs": [],
   "source": [
    "for df_ in [df_train_full, df_test]:\n",
    "    df_['dist_geo'] =[geodesic((df_['Pickup Lat'].iloc[i], df_['Pickup Long'].iloc[i]), (df_['Destination Lat'].iloc[i], df_['Destination Long'].iloc[i])).km for i in range(len(df_))]\n",
    "    df_['dist_cir'] =[great_circle((df_['Pickup Lat'].iloc[i], df_['Pickup Long'].iloc[i]), (df_['Destination Lat'].iloc[i], df_['Destination Long'].iloc[i])).km for i in range(len(df_))]"
   ]
  },
  {
   "cell_type": "code",
   "execution_count": null,
   "metadata": {
    "ExecuteTime": {
     "end_time": "2019-10-27T19:52:58.016895Z",
     "start_time": "2019-10-27T19:46:32.150Z"
    }
   },
   "outputs": [],
   "source": [
    "for df_ in [df_train_full, df_test]:\n",
    "    df_['time_place'] = df_['Placement - Time'].str[0:2].str.replace(':', '').astype(int)\n",
    "    df_['time_confirm'] = df_['Confirmation - Time'].str[0:2].str.replace(':', '').astype(int)\n",
    "    df_['time_arr'] = df_['Arrival at Pickup - Time'].str[0:2].str.replace(':', '').astype(int)\n",
    "    df_['time_pickup'] = df_['Pickup - Time'].str[0:2].str.replace(':', '').astype(int)"
   ]
  },
  {
   "cell_type": "code",
   "execution_count": null,
   "metadata": {
    "ExecuteTime": {
     "end_time": "2019-10-27T19:52:58.024890Z",
     "start_time": "2019-10-27T19:46:33.652Z"
    }
   },
   "outputs": [],
   "source": [
    "for df_ in [df_train_full, df_test]:\n",
    "    df_['diff_place'] = df_['Confirmation - Day of Month'] - df_['Placement - Day of Month']\n",
    "    df_['diff_arr'] = df_['Placement - Day of Month'] - df_['Arrival at Pickup - Day of Month']\n",
    "    df_['diff_pickup'] = df_['Arrival at Pickup - Day of Month'] - df_['Pickup - Day of Month']"
   ]
  },
  {
   "cell_type": "code",
   "execution_count": null,
   "metadata": {
    "ExecuteTime": {
     "end_time": "2019-10-27T19:52:58.034157Z",
     "start_time": "2019-10-27T19:46:41.055Z"
    }
   },
   "outputs": [],
   "source": [
    "le = preprocessing.LabelEncoder()\n",
    "for feat in ['Vehicle Type', 'Platform Type','Personal or Business']:\n",
    "    le_fitted = le.fit(df_train_full[feat])\n",
    "    df_train_full[feat] = le_fitted.transform(df_train_full[feat])\n",
    "    df_test[feat] = le_fitted.transform(df_test[feat])"
   ]
  },
  {
   "cell_type": "code",
   "execution_count": null,
   "metadata": {
    "ExecuteTime": {
     "end_time": "2019-10-27T19:52:58.101844Z",
     "start_time": "2019-10-27T19:47:00.670Z"
    }
   },
   "outputs": [],
   "source": [
    "list_unpop = list(df_train_full['Rider Id'].value_counts()[df_train_full['Rider Id'].value_counts() < 40].index)\n",
    "df_train_full['Rider Id'][df_train_full['Rider Id'].isin(list_unpop)] = '0'\n",
    "df_test['Rider Id'][df_test['Rider Id'].isin(list_unpop)] = '0'"
   ]
  },
  {
   "cell_type": "code",
   "execution_count": null,
   "metadata": {
    "ExecuteTime": {
     "end_time": "2019-10-27T19:52:58.115836Z",
     "start_time": "2019-10-27T19:47:16.494Z"
    }
   },
   "outputs": [],
   "source": [
    "enc = OneHotEncoder(handle_unknown='ignore')\n",
    "enc.fit(df_train_full['Rider Id'].values.reshape(-1, 1))\n",
    "\n",
    "\n",
    "\n",
    "categories_1_train = pd.DataFrame(enc.transform(df_train_full['Rider Id'].values.reshape(-1, 1)).toarray(), columns = ['rider_' + str(i) for i in range (0, len(df_train_full['Rider Id'].unique()))])\n",
    "categories_1_test = pd.DataFrame(enc.transform(df_test['Rider Id'].values.reshape(-1, 1)).toarray(), columns = ['rider_' + str(i) for i in range (0, len(df_train_full['Rider Id'].unique()))])\n",
    "df_train_full = pd.concat([df_train_full, categories_1_train], axis = 1)\n",
    "df_test = pd.concat([df_test, categories_1_test], axis = 1)"
   ]
  },
  {
   "cell_type": "code",
   "execution_count": null,
   "metadata": {
    "ExecuteTime": {
     "end_time": "2019-10-27T19:52:58.129829Z",
     "start_time": "2019-10-27T19:47:18.402Z"
    }
   },
   "outputs": [],
   "source": [
    "df_train_full.corr()['Time from Pickup to Arrival'].sort_values()"
   ]
  },
  {
   "cell_type": "code",
   "execution_count": null,
   "metadata": {
    "ExecuteTime": {
     "end_time": "2019-10-27T19:52:58.145820Z",
     "start_time": "2019-10-27T19:47:21.398Z"
    }
   },
   "outputs": [],
   "source": [
    "df_train_full.to_csv('df_train_full_Sendy.csv')\n",
    "df_test.to_csv('df_test_Sendy.csv')"
   ]
  },
  {
   "cell_type": "code",
   "execution_count": null,
   "metadata": {
    "ExecuteTime": {
     "end_time": "2019-10-27T17:28:21.166503Z",
     "start_time": "2019-10-27T17:28:20.169532Z"
    }
   },
   "outputs": [],
   "source": [
    "df_train_full = pd.read_csv('df_train_full_Sendy.csv')\n",
    "df_test = pd.read_csv('df_test_Sendy.csv')"
   ]
  },
  {
   "cell_type": "code",
   "execution_count": null,
   "metadata": {
    "ExecuteTime": {
     "end_time": "2019-10-27T19:52:58.155993Z",
     "start_time": "2019-10-27T19:47:22.964Z"
    }
   },
   "outputs": [],
   "source": [
    "for df_ in [df_train_full, df_test]:\n",
    "    df_['diff_lats'] = df_['Pickup Lat'] - df_['Destination Lat']\n",
    "    df_['diff_lons'] = df_['Pickup Long'] - df_['Destination Long']"
   ]
  },
  {
   "cell_type": "code",
   "execution_count": null,
   "metadata": {
    "ExecuteTime": {
     "end_time": "2019-10-27T19:52:58.164988Z",
     "start_time": "2019-10-27T19:47:23.895Z"
    }
   },
   "outputs": [],
   "source": [
    "df_test.columns[:50]"
   ]
  },
  {
   "cell_type": "code",
   "execution_count": null,
   "metadata": {
    "ExecuteTime": {
     "end_time": "2019-10-27T19:52:58.174982Z",
     "start_time": "2019-10-27T19:47:25.282Z"
    }
   },
   "outputs": [],
   "source": [
    "df_train_full['User Id'].value_counts()"
   ]
  },
  {
   "cell_type": "code",
   "execution_count": null,
   "metadata": {
    "ExecuteTime": {
     "end_time": "2019-10-27T19:52:58.183977Z",
     "start_time": "2019-10-27T19:47:27.318Z"
    }
   },
   "outputs": [],
   "source": [
    "list_unpop = list(df_train_full['User Id'].value_counts()[df_train_full['User Id'].value_counts() < 100].index)\n",
    "df_train_full['User Id'][df_train_full['User Id'].isin(list_unpop)] = '0'\n",
    "df_test['User Id'][df_test['User Id'].isin(list_unpop)] = '0'"
   ]
  },
  {
   "cell_type": "code",
   "execution_count": null,
   "metadata": {
    "ExecuteTime": {
     "end_time": "2019-10-27T19:52:58.192972Z",
     "start_time": "2019-10-27T19:47:28.558Z"
    }
   },
   "outputs": [],
   "source": [
    "enc = OneHotEncoder(handle_unknown='ignore')\n",
    "enc.fit(df_train_full['User Id'].values.reshape(-1, 1))\n",
    "\n",
    "\n",
    "\n",
    "categories_1_train = pd.DataFrame(enc.transform(df_train_full['User Id'].values.reshape(-1, 1)).toarray(), columns = ['User_' + str(i) for i in range (0, len(df_train_full['User Id'].unique()))])\n",
    "categories_1_test = pd.DataFrame(enc.transform(df_test['User Id'].values.reshape(-1, 1)).toarray(), columns = ['User_' + str(i) for i in range (0, len(df_train_full['User Id'].unique()))])\n",
    "df_train_full = pd.concat([df_train_full, categories_1_train], axis = 1)\n",
    "df_test = pd.concat([df_test, categories_1_test], axis = 1)"
   ]
  },
  {
   "cell_type": "code",
   "execution_count": null,
   "metadata": {
    "ExecuteTime": {
     "end_time": "2019-10-27T19:52:58.204964Z",
     "start_time": "2019-10-27T19:47:30.204Z"
    }
   },
   "outputs": [],
   "source": [
    "df_train_full.to_csv('df_train_full_Sendy.csv')\n",
    "df_test.to_csv('df_test_Sendy.csv')"
   ]
  },
  {
   "cell_type": "code",
   "execution_count": null,
   "metadata": {},
   "outputs": [],
   "source": []
  }
 ],
 "metadata": {
  "hide_input": false,
  "kernelspec": {
   "display_name": "Python 3",
   "language": "python",
   "name": "python3"
  },
  "language_info": {
   "codemirror_mode": {
    "name": "ipython",
    "version": 3
   },
   "file_extension": ".py",
   "mimetype": "text/x-python",
   "name": "python",
   "nbconvert_exporter": "python",
   "pygments_lexer": "ipython3",
   "version": "3.7.4"
  },
  "toc": {
   "base_numbering": 1,
   "nav_menu": {},
   "number_sections": true,
   "sideBar": true,
   "skip_h1_title": false,
   "title_cell": "Table of Contents",
   "title_sidebar": "Contents",
   "toc_cell": false,
   "toc_position": {},
   "toc_section_display": true,
   "toc_window_display": false
  },
  "varInspector": {
   "cols": {
    "lenName": 16,
    "lenType": 16,
    "lenVar": 40
   },
   "kernels_config": {
    "python": {
     "delete_cmd_postfix": "",
     "delete_cmd_prefix": "del ",
     "library": "var_list.py",
     "varRefreshCmd": "print(var_dic_list())"
    },
    "r": {
     "delete_cmd_postfix": ") ",
     "delete_cmd_prefix": "rm(",
     "library": "var_list.r",
     "varRefreshCmd": "cat(var_dic_list()) "
    }
   },
   "types_to_exclude": [
    "module",
    "function",
    "builtin_function_or_method",
    "instance",
    "_Feature"
   ],
   "window_display": false
  }
 },
 "nbformat": 4,
 "nbformat_minor": 2
}
