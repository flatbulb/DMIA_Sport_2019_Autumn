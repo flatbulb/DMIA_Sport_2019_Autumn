{
 "cells": [
  {
   "cell_type": "code",
   "execution_count": 1,
   "metadata": {
    "ExecuteTime": {
     "end_time": "2019-11-06T13:26:33.674701Z",
     "start_time": "2019-11-06T13:26:26.165800Z"
    }
   },
   "outputs": [],
   "source": [
    "import pandas as pd\n",
    "import numpy as np\n",
    "from geopy.distance import geodesic, great_circle\n",
    "import lightgbm as lgb\n",
    "\n",
    "from sklearn.metrics import mean_squared_error, mean_squared_log_error\n",
    "from hyperopt import hp, tpe\n",
    "from hyperopt.fmin import fmin\n",
    "from sklearn.model_selection import cross_val_score, cross_val_predict, KFold\n",
    "from sklearn import preprocessing\n",
    "\n",
    "from datetime import date\n",
    "import matplotlib.pyplot as plt\n",
    "import shap"
   ]
  },
  {
   "cell_type": "code",
   "execution_count": 2,
   "metadata": {
    "ExecuteTime": {
     "end_time": "2019-11-06T13:26:38.464557Z",
     "start_time": "2019-11-06T13:26:33.681615Z"
    }
   },
   "outputs": [],
   "source": [
    "df_train_full = pd.read_csv('df_train_full_Sendy.csv')\n",
    "df_test = pd.read_csv('df_test_Sendy.csv')"
   ]
  },
  {
   "cell_type": "code",
   "execution_count": 3,
   "metadata": {
    "ExecuteTime": {
     "end_time": "2019-11-06T13:26:38.580591Z",
     "start_time": "2019-11-06T13:26:38.467558Z"
    }
   },
   "outputs": [
    {
     "data": {
      "text/html": [
       "<div>\n",
       "<style scoped>\n",
       "    .dataframe tbody tr th:only-of-type {\n",
       "        vertical-align: middle;\n",
       "    }\n",
       "\n",
       "    .dataframe tbody tr th {\n",
       "        vertical-align: top;\n",
       "    }\n",
       "\n",
       "    .dataframe thead th {\n",
       "        text-align: right;\n",
       "    }\n",
       "</style>\n",
       "<table border=\"1\" class=\"dataframe\">\n",
       "  <thead>\n",
       "    <tr style=\"text-align: right;\">\n",
       "      <th></th>\n",
       "      <th>Pickup - Time</th>\n",
       "      <th>time_pick</th>\n",
       "    </tr>\n",
       "  </thead>\n",
       "  <tbody>\n",
       "    <tr>\n",
       "      <th>0</th>\n",
       "      <td>10:27:30 AM</td>\n",
       "      <td>10</td>\n",
       "    </tr>\n",
       "    <tr>\n",
       "      <th>1</th>\n",
       "      <td>11:44:09 AM</td>\n",
       "      <td>11</td>\n",
       "    </tr>\n",
       "    <tr>\n",
       "      <th>2</th>\n",
       "      <td>12:53:03 PM</td>\n",
       "      <td>24</td>\n",
       "    </tr>\n",
       "    <tr>\n",
       "      <th>3</th>\n",
       "      <td>9:43:06 AM</td>\n",
       "      <td>9</td>\n",
       "    </tr>\n",
       "    <tr>\n",
       "      <th>4</th>\n",
       "      <td>10:05:23 AM</td>\n",
       "      <td>10</td>\n",
       "    </tr>\n",
       "  </tbody>\n",
       "</table>\n",
       "</div>"
      ],
      "text/plain": [
       "  Pickup - Time  time_pick\n",
       "0   10:27:30 AM         10\n",
       "1   11:44:09 AM         11\n",
       "2   12:53:03 PM         24\n",
       "3    9:43:06 AM          9\n",
       "4   10:05:23 AM         10"
      ]
     },
     "execution_count": 3,
     "metadata": {},
     "output_type": "execute_result"
    }
   ],
   "source": [
    "df_train_full['time_pick'] = df_train_full['Pickup - Time'].str[0:2].str.replace(':', '').astype(int) + 12*df_train_full['Pickup - Time'].str.contains('PM').astype(int)\n",
    "df_train_full[['Pickup - Time', 'time_pick']].head()"
   ]
  },
  {
   "cell_type": "code",
   "execution_count": 4,
   "metadata": {
    "ExecuteTime": {
     "end_time": "2019-11-06T13:26:38.620602Z",
     "start_time": "2019-11-06T13:26:38.584593Z"
    }
   },
   "outputs": [],
   "source": [
    "df_train_full['speed'] = df_train_full['Distance (KM)']/(df_train_full['Time from Pickup to Arrival']/3600)\n",
    "df_train_full['speed_osrm'] = df_train_full['Distance (KM)']/(df_train_full['dur_osrm_motor']/3600)\n",
    "df_test['speed_osrm'] = df_test['Distance (KM)']/(df_test['dur_osrm_motor']/3600)"
   ]
  },
  {
   "cell_type": "code",
   "execution_count": 5,
   "metadata": {
    "ExecuteTime": {
     "end_time": "2019-11-06T13:26:39.044015Z",
     "start_time": "2019-11-06T13:26:38.625604Z"
    }
   },
   "outputs": [
    {
     "data": {
      "image/png": "[encoded data removed]",
      "text/plain": [
       "<Figure size 432x288 with 1 Axes>"
      ]
     },
     "metadata": {
      "needs_background": "light"
     },
     "output_type": "display_data"
    }
   ],
   "source": [
    "plt.hist(df_train_full['speed'][(df_train_full['speed'] < 70) & (df_train_full['speed'] > 2)])\n",
    "plt.hist(df_train_full['speed_osrm'][(df_train_full['speed_osrm'] < 70) & (df_train_full['speed_osrm'] > 2)], alpha = 0.5)\n",
    "plt.show()"
   ]
  },
  {
   "cell_type": "code",
   "execution_count": 6,
   "metadata": {
    "ExecuteTime": {
     "end_time": "2019-11-06T13:26:39.127035Z",
     "start_time": "2019-11-06T13:26:39.050016Z"
    }
   },
   "outputs": [
    {
     "data": {
      "text/html": [
       "<div>\n",
       "<style scoped>\n",
       "    .dataframe tbody tr th:only-of-type {\n",
       "        vertical-align: middle;\n",
       "    }\n",
       "\n",
       "    .dataframe tbody tr th {\n",
       "        vertical-align: top;\n",
       "    }\n",
       "\n",
       "    .dataframe thead th {\n",
       "        text-align: right;\n",
       "    }\n",
       "</style>\n",
       "<table border=\"1\" class=\"dataframe\">\n",
       "  <thead>\n",
       "    <tr style=\"text-align: right;\">\n",
       "      <th></th>\n",
       "      <th>Pickup - Time</th>\n",
       "      <th>time_pick</th>\n",
       "    </tr>\n",
       "  </thead>\n",
       "  <tbody>\n",
       "    <tr>\n",
       "      <th>0</th>\n",
       "      <td>5:06:47 PM</td>\n",
       "      <td>17</td>\n",
       "    </tr>\n",
       "    <tr>\n",
       "      <th>1</th>\n",
       "      <td>1:25:37 PM</td>\n",
       "      <td>13</td>\n",
       "    </tr>\n",
       "    <tr>\n",
       "      <th>2</th>\n",
       "      <td>11:57:54 AM</td>\n",
       "      <td>11</td>\n",
       "    </tr>\n",
       "    <tr>\n",
       "      <th>3</th>\n",
       "      <td>2:16:52 PM</td>\n",
       "      <td>14</td>\n",
       "    </tr>\n",
       "    <tr>\n",
       "      <th>4</th>\n",
       "      <td>11:56:04 AM</td>\n",
       "      <td>11</td>\n",
       "    </tr>\n",
       "  </tbody>\n",
       "</table>\n",
       "</div>"
      ],
      "text/plain": [
       "  Pickup - Time  time_pick\n",
       "0    5:06:47 PM         17\n",
       "1    1:25:37 PM         13\n",
       "2   11:57:54 AM         11\n",
       "3    2:16:52 PM         14\n",
       "4   11:56:04 AM         11"
      ]
     },
     "execution_count": 6,
     "metadata": {},
     "output_type": "execute_result"
    }
   ],
   "source": [
    "df_test['time_pick'] = df_test['Pickup - Time'].str[0:2].str.replace(':', '').astype(int) + 12*df_test['Pickup - Time'].str.contains('PM').astype(int)\n",
    "df_test[['Pickup - Time', 'time_pick']].head()"
   ]
  },
  {
   "cell_type": "code",
   "execution_count": 7,
   "metadata": {
    "ExecuteTime": {
     "end_time": "2019-11-06T13:26:39.157045Z",
     "start_time": "2019-11-06T13:26:39.144044Z"
    }
   },
   "outputs": [],
   "source": [
    "df_train_full['ratio'] =  df_train_full['Time from Pickup to Arrival']/df_train_full['dur_osrm_motor']"
   ]
  },
  {
   "cell_type": "code",
   "execution_count": null,
   "metadata": {
    "ExecuteTime": {
     "start_time": "2019-11-06T13:26:26.197Z"
    }
   },
   "outputs": [],
   "source": [
    "time_pick_ratios = df_train_full.groupby('time_pick')['ratio'].mean().reset_index()"
   ]
  },
  {
   "cell_type": "code",
   "execution_count": null,
   "metadata": {
    "ExecuteTime": {
     "start_time": "2019-11-06T13:26:26.208Z"
    }
   },
   "outputs": [],
   "source": [
    "df_train_full = pd.merge(df_train_full, time_pick_ratios, how = 'left', on = 'time_pick')\n",
    "df_test = pd.merge(df_test, time_pick_ratios, how = 'left', on = 'time_pick')"
   ]
  },
  {
   "cell_type": "code",
   "execution_count": null,
   "metadata": {
    "ExecuteTime": {
     "start_time": "2019-11-06T13:26:26.243Z"
    }
   },
   "outputs": [
    {
     "data": {
      "text/html": [
       "<div>\n",
       "<style scoped>\n",
       "    .dataframe tbody tr th:only-of-type {\n",
       "        vertical-align: middle;\n",
       "    }\n",
       "\n",
       "    .dataframe tbody tr th {\n",
       "        vertical-align: top;\n",
       "    }\n",
       "\n",
       "    .dataframe thead th {\n",
       "        text-align: right;\n",
       "    }\n",
       "</style>\n",
       "<table border=\"1\" class=\"dataframe\">\n",
       "  <thead>\n",
       "    <tr style=\"text-align: right;\">\n",
       "      <th></th>\n",
       "      <th>Unnamed: 0</th>\n",
       "      <th>Unnamed: 0.1</th>\n",
       "      <th>Unnamed: 0.1.1</th>\n",
       "      <th>Order No</th>\n",
       "      <th>User Id</th>\n",
       "      <th>Vehicle Type</th>\n",
       "      <th>Platform Type</th>\n",
       "      <th>Personal or Business</th>\n",
       "      <th>Placement - Day of Month</th>\n",
       "      <th>Placement - Weekday (Mo = 1)</th>\n",
       "      <th>...</th>\n",
       "      <th>User_33</th>\n",
       "      <th>User_34</th>\n",
       "      <th>User_35</th>\n",
       "      <th>User_36</th>\n",
       "      <th>dur_osrm_motor</th>\n",
       "      <th>time_pick</th>\n",
       "      <th>speed</th>\n",
       "      <th>speed_osrm</th>\n",
       "      <th>ratio_x</th>\n",
       "      <th>ratio_y</th>\n",
       "    </tr>\n",
       "  </thead>\n",
       "  <tbody>\n",
       "    <tr>\n",
       "      <th>0</th>\n",
       "      <td>0</td>\n",
       "      <td>0</td>\n",
       "      <td>0</td>\n",
       "      <td>Order_No_4211</td>\n",
       "      <td>User_Id_633</td>\n",
       "      <td>0</td>\n",
       "      <td>2</td>\n",
       "      <td>0</td>\n",
       "      <td>9</td>\n",
       "      <td>5</td>\n",
       "      <td>...</td>\n",
       "      <td>1.0</td>\n",
       "      <td>0.0</td>\n",
       "      <td>0.0</td>\n",
       "      <td>0.0</td>\n",
       "      <td>318</td>\n",
       "      <td>10</td>\n",
       "      <td>19.328859</td>\n",
       "      <td>45.283019</td>\n",
       "      <td>2.342767</td>\n",
       "      <td>1.783738</td>\n",
       "    </tr>\n",
       "    <tr>\n",
       "      <th>1</th>\n",
       "      <td>1</td>\n",
       "      <td>1</td>\n",
       "      <td>1</td>\n",
       "      <td>Order_No_25375</td>\n",
       "      <td>0</td>\n",
       "      <td>0</td>\n",
       "      <td>2</td>\n",
       "      <td>1</td>\n",
       "      <td>12</td>\n",
       "      <td>5</td>\n",
       "      <td>...</td>\n",
       "      <td>0.0</td>\n",
       "      <td>0.0</td>\n",
       "      <td>0.0</td>\n",
       "      <td>0.0</td>\n",
       "      <td>1266</td>\n",
       "      <td>11</td>\n",
       "      <td>28.901154</td>\n",
       "      <td>45.497630</td>\n",
       "      <td>1.574250</td>\n",
       "      <td>1.942283</td>\n",
       "    </tr>\n",
       "    <tr>\n",
       "      <th>2</th>\n",
       "      <td>2</td>\n",
       "      <td>2</td>\n",
       "      <td>2</td>\n",
       "      <td>Order_No_1899</td>\n",
       "      <td>User_Id_265</td>\n",
       "      <td>0</td>\n",
       "      <td>2</td>\n",
       "      <td>0</td>\n",
       "      <td>30</td>\n",
       "      <td>2</td>\n",
       "      <td>...</td>\n",
       "      <td>0.0</td>\n",
       "      <td>0.0</td>\n",
       "      <td>0.0</td>\n",
       "      <td>0.0</td>\n",
       "      <td>378</td>\n",
       "      <td>24</td>\n",
       "      <td>23.736264</td>\n",
       "      <td>28.571429</td>\n",
       "      <td>1.203704</td>\n",
       "      <td>1.916077</td>\n",
       "    </tr>\n",
       "    <tr>\n",
       "      <th>3</th>\n",
       "      <td>3</td>\n",
       "      <td>3</td>\n",
       "      <td>3</td>\n",
       "      <td>Order_No_9336</td>\n",
       "      <td>0</td>\n",
       "      <td>0</td>\n",
       "      <td>2</td>\n",
       "      <td>0</td>\n",
       "      <td>15</td>\n",
       "      <td>5</td>\n",
       "      <td>...</td>\n",
       "      <td>0.0</td>\n",
       "      <td>0.0</td>\n",
       "      <td>0.0</td>\n",
       "      <td>0.0</td>\n",
       "      <td>669</td>\n",
       "      <td>9</td>\n",
       "      <td>24.161074</td>\n",
       "      <td>48.430493</td>\n",
       "      <td>2.004484</td>\n",
       "      <td>1.805356</td>\n",
       "    </tr>\n",
       "    <tr>\n",
       "      <th>4</th>\n",
       "      <td>4</td>\n",
       "      <td>4</td>\n",
       "      <td>4</td>\n",
       "      <td>Order_No_27883</td>\n",
       "      <td>0</td>\n",
       "      <td>0</td>\n",
       "      <td>0</td>\n",
       "      <td>1</td>\n",
       "      <td>13</td>\n",
       "      <td>1</td>\n",
       "      <td>...</td>\n",
       "      <td>0.0</td>\n",
       "      <td>0.0</td>\n",
       "      <td>0.0</td>\n",
       "      <td>0.0</td>\n",
       "      <td>736</td>\n",
       "      <td>10</td>\n",
       "      <td>26.688633</td>\n",
       "      <td>44.021739</td>\n",
       "      <td>1.649457</td>\n",
       "      <td>1.783738</td>\n",
       "    </tr>\n",
       "  </tbody>\n",
       "</table>\n",
       "<p>5 rows × 208 columns</p>\n",
       "</div>"
      ],
      "text/plain": [
       "   Unnamed: 0  Unnamed: 0.1  Unnamed: 0.1.1        Order No      User Id  \\\n",
       "0           0             0               0   Order_No_4211  User_Id_633   \n",
       "1           1             1               1  Order_No_25375            0   \n",
       "2           2             2               2   Order_No_1899  User_Id_265   \n",
       "3           3             3               3   Order_No_9336            0   \n",
       "4           4             4               4  Order_No_27883            0   \n",
       "\n",
       "   Vehicle Type  Platform Type  Personal or Business  \\\n",
       "0             0              2                     0   \n",
       "1             0              2                     1   \n",
       "2             0              2                     0   \n",
       "3             0              2                     0   \n",
       "4             0              0                     1   \n",
       "\n",
       "   Placement - Day of Month  Placement - Weekday (Mo = 1)    ...    User_33  \\\n",
       "0                         9                             5    ...        1.0   \n",
       "1                        12                             5    ...        0.0   \n",
       "2                        30                             2    ...        0.0   \n",
       "3                        15                             5    ...        0.0   \n",
       "4                        13                             1    ...        0.0   \n",
       "\n",
       "   User_34  User_35 User_36  dur_osrm_motor  time_pick      speed  speed_osrm  \\\n",
       "0      0.0      0.0     0.0             318         10  19.328859   45.283019   \n",
       "1      0.0      0.0     0.0            1266         11  28.901154   45.497630   \n",
       "2      0.0      0.0     0.0             378         24  23.736264   28.571429   \n",
       "3      0.0      0.0     0.0             669          9  24.161074   48.430493   \n",
       "4      0.0      0.0     0.0             736         10  26.688633   44.021739   \n",
       "\n",
       "    ratio_x   ratio_y  \n",
       "0  2.342767  1.783738  \n",
       "1  1.574250  1.942283  \n",
       "2  1.203704  1.916077  \n",
       "3  2.004484  1.805356  \n",
       "4  1.649457  1.783738  \n",
       "\n",
       "[5 rows x 208 columns]"
      ]
     },
     "execution_count": 10,
     "metadata": {},
     "output_type": "execute_result"
    }
   ],
   "source": [
    "df_train_full.head()"
   ]
  },
  {
   "cell_type": "code",
   "execution_count": null,
   "metadata": {
    "ExecuteTime": {
     "start_time": "2019-11-06T13:26:26.253Z"
    }
   },
   "outputs": [],
   "source": [
    "riders = pd.read_csv('Riders.csv')"
   ]
  },
  {
   "cell_type": "code",
   "execution_count": null,
   "metadata": {
    "ExecuteTime": {
     "start_time": "2019-11-06T13:26:26.262Z"
    }
   },
   "outputs": [],
   "source": [
    "df_train_full = pd.merge(df_train_full, riders, how = 'left', on = 'Rider Id')\n",
    "df_test = pd.merge(df_test, riders, how = 'left', on = 'Rider Id')"
   ]
  },
  {
   "cell_type": "code",
   "execution_count": null,
   "metadata": {
    "ExecuteTime": {
     "start_time": "2019-11-06T13:26:26.272Z"
    }
   },
   "outputs": [],
   "source": [
    "for df_ in [df_train_full, df_test]:\n",
    "    df_['Ord'] = df_['Order No'].str.replace('Order_No_', '').astype(int)"
   ]
  },
  {
   "cell_type": "code",
   "execution_count": null,
   "metadata": {
    "ExecuteTime": {
     "start_time": "2019-11-06T13:26:26.289Z"
    }
   },
   "outputs": [],
   "source": [
    "df_train_full = df_train_full.sample(frac = 1)"
   ]
  },
  {
   "cell_type": "code",
   "execution_count": null,
   "metadata": {
    "ExecuteTime": {
     "start_time": "2019-11-06T13:26:26.301Z"
    }
   },
   "outputs": [
    {
     "name": "stdout",
     "output_type": "stream",
     "text": [
      "Train:  16960 \n",
      "Valid:  4241 \n",
      "Test:  7068\n"
     ]
    }
   ],
   "source": [
    "df_train, df_valid = df_train_full[:int(0.8*len(df_train_full))], df_train_full[int(0.8*len(df_train_full)):]\n",
    "\n",
    "print('Train: ', len(df_train), '\\nValid: ', len(df_valid),'\\nTest: ',  len(df_test))"
   ]
  },
  {
   "cell_type": "code",
   "execution_count": null,
   "metadata": {
    "ExecuteTime": {
     "start_time": "2019-11-06T13:26:26.317Z"
    }
   },
   "outputs": [],
   "source": [
    "def rmse(y_test, predictions):\n",
    "    return np.sqrt(mean_squared_error(y_test, predictions))"
   ]
  },
  {
   "cell_type": "code",
   "execution_count": null,
   "metadata": {
    "ExecuteTime": {
     "start_time": "2019-11-06T13:26:26.330Z"
    }
   },
   "outputs": [
    {
     "data": {
      "text/plain": [
       "Index(['Unnamed: 0', 'Unnamed: 0.1', 'Unnamed: 0.1.1', 'Order No', 'User Id',\n",
       "       'Vehicle Type', 'Platform Type', 'Personal or Business',\n",
       "       'Placement - Day of Month', 'Placement - Weekday (Mo = 1)',\n",
       "       ...\n",
       "       'User_36', 'dur_osrm_motor', 'speed_osrm', 'time_pick', 'ratio',\n",
       "       'No_Of_Orders', 'Age', 'Average_Rating', 'No_of_Ratings', 'Ord'],\n",
       "      dtype='object', length=206)"
      ]
     },
     "execution_count": 17,
     "metadata": {},
     "output_type": "execute_result"
    }
   ],
   "source": [
    "df_test.columns"
   ]
  },
  {
   "cell_type": "code",
   "execution_count": null,
   "metadata": {
    "ExecuteTime": {
     "start_time": "2019-11-06T13:26:26.349Z"
    }
   },
   "outputs": [
    {
     "name": "stderr",
     "output_type": "stream",
     "text": [
      "C:\\Anaconda3\\lib\\site-packages\\ipykernel_launcher.py:1: SettingWithCopyWarning: \n",
      "A value is trying to be set on a copy of a slice from a DataFrame.\n",
      "Try using .loc[row_indexer,col_indexer] = value instead\n",
      "\n",
      "See the caveats in the documentation: http://pandas.pydata.org/pandas-docs/stable/indexing.html#indexing-view-versus-copy\n",
      "  \"\"\"Entry point for launching an IPython kernel.\n"
     ]
    }
   ],
   "source": [
    "df_train['dur_osrm_motor_adj'] = df_train['ratio_y'] * df_train['dur_osrm_motor']"
   ]
  },
  {
   "cell_type": "code",
   "execution_count": null,
   "metadata": {
    "ExecuteTime": {
     "start_time": "2019-11-06T13:26:26.357Z"
    }
   },
   "outputs": [
    {
     "name": "stderr",
     "output_type": "stream",
     "text": [
      "C:\\Anaconda3\\lib\\site-packages\\ipykernel_launcher.py:1: SettingWithCopyWarning: \n",
      "A value is trying to be set on a copy of a slice from a DataFrame.\n",
      "Try using .loc[row_indexer,col_indexer] = value instead\n",
      "\n",
      "See the caveats in the documentation: http://pandas.pydata.org/pandas-docs/stable/indexing.html#indexing-view-versus-copy\n",
      "  \"\"\"Entry point for launching an IPython kernel.\n"
     ]
    }
   ],
   "source": [
    "df_valid['dur_osrm_motor_adj'] = df_valid['ratio_y'] * df_valid['dur_osrm_motor']"
   ]
  },
  {
   "cell_type": "code",
   "execution_count": null,
   "metadata": {
    "ExecuteTime": {
     "start_time": "2019-11-06T13:26:26.373Z"
    }
   },
   "outputs": [],
   "source": [
    "df_train_full['dur_osrm_motor_adj'] = df_train_full['ratio_y'] * df_train_full['dur_osrm_motor']"
   ]
  },
  {
   "cell_type": "code",
   "execution_count": null,
   "metadata": {
    "ExecuteTime": {
     "start_time": "2019-11-06T13:26:26.381Z"
    }
   },
   "outputs": [],
   "source": [
    "df_test['dur_osrm_motor_adj'] = df_test['ratio'] * df_test['dur_osrm_motor']"
   ]
  },
  {
   "cell_type": "code",
   "execution_count": null,
   "metadata": {
    "ExecuteTime": {
     "start_time": "2019-11-06T13:26:26.403Z"
    }
   },
   "outputs": [
    {
     "data": {
      "text/plain": [
       "Index(['Unnamed: 0', 'Unnamed: 0.1', 'Unnamed: 0.1.1', 'Order No', 'User Id',\n",
       "       'Vehicle Type', 'Platform Type', 'Personal or Business',\n",
       "       'Placement - Day of Month', 'Placement - Weekday (Mo = 1)',\n",
       "       'Placement - Time', 'Confirmation - Day of Month',\n",
       "       'Confirmation - Weekday (Mo = 1)', 'Confirmation - Time',\n",
       "       'Arrival at Pickup - Day of Month',\n",
       "       'Arrival at Pickup - Weekday (Mo = 1)', 'Arrival at Pickup - Time',\n",
       "       'Pickup - Day of Month', 'Pickup - Weekday (Mo = 1)', 'Pickup - Time',\n",
       "       'Distance (KM)', 'Temperature', 'Precipitation in millimeters',\n",
       "       'Pickup Lat', 'Pickup Long', 'Destination Lat', 'Destination Long',\n",
       "       'Rider Id', 'dist_geo', 'dist_cir', 'time_place', 'time_confirm',\n",
       "       'time_arr', 'time_pickup', 'diff_place', 'diff_arr', 'diff_pickup',\n",
       "       'dur_osrm', 'diff_durs', 'rider_0', 'rider_1', 'rider_2', 'rider_3',\n",
       "       'rider_4', 'rider_5', 'rider_6', 'rider_7', 'rider_8', 'rider_9',\n",
       "       'rider_10'],\n",
       "      dtype='object')"
      ]
     },
     "execution_count": 22,
     "metadata": {},
     "output_type": "execute_result"
    }
   ],
   "source": [
    "df_test.columns[:50]"
   ]
  },
  {
   "cell_type": "code",
   "execution_count": null,
   "metadata": {
    "ExecuteTime": {
     "start_time": "2019-11-06T13:26:26.412Z"
    }
   },
   "outputs": [],
   "source": [
    "list_feat = ['Personal or Business', 'Pickup - Weekday (Mo = 1)', \n",
    "            'Distance (KM)', \n",
    "            'dur_osrm_motor', 'speed_osrm', 'No_Of_Orders','Age',\n",
    "             'Average_Rating',\n",
    "             'time_pick', 'Ord', 'Destination Lat', 'Destination Long', 'Temperature',\n",
    "            'Pickup Lat', 'Pickup Long', 'dist_geo', 'dist_cir', 'dur_osrm', 'Precipitation in millimeters', 'diff_lats',\n",
    "            'diff_lons'] + \\\n",
    "list(df_test.columns[df_test.columns.str.contains('rider_')])"
   ]
  },
  {
   "cell_type": "code",
   "execution_count": null,
   "metadata": {
    "ExecuteTime": {
     "start_time": "2019-11-06T13:26:26.424Z"
    }
   },
   "outputs": [
    {
     "data": {
      "text/plain": [
       "count    21201.000000\n",
       "mean       249.305379\n",
       "std       1905.297307\n",
       "min          0.920245\n",
       "1%           4.884668\n",
       "50%         23.064602\n",
       "99%       7200.000000\n",
       "max      61200.000000\n",
       "Name: speed, dtype: float64"
      ]
     },
     "execution_count": 24,
     "metadata": {},
     "output_type": "execute_result"
    }
   ],
   "source": [
    "df_train_full['speed'].describe(percentiles = [0.01, 0.99])"
   ]
  },
  {
   "cell_type": "code",
   "execution_count": null,
   "metadata": {
    "ExecuteTime": {
     "start_time": "2019-11-06T13:26:26.431Z"
    }
   },
   "outputs": [],
   "source": [
    "df_train = df_train[df_train['speed'] < 200]\n",
    "df_train = df_train[df_train['speed'] > 0.5]"
   ]
  },
  {
   "cell_type": "code",
   "execution_count": null,
   "metadata": {
    "ExecuteTime": {
     "start_time": "2019-11-06T13:26:26.448Z"
    }
   },
   "outputs": [
    {
     "data": {
      "text/plain": [
       "Personal or Business           -0.032929\n",
       "Pickup - Weekday (Mo = 1)      -0.013811\n",
       "Distance (KM)                   0.281925\n",
       "dur_osrm_motor                  0.231997\n",
       "speed_osrm                      0.119960\n",
       "No_Of_Orders                    0.010574\n",
       "Age                            -0.036820\n",
       "Average_Rating                  0.057108\n",
       "time_pick                      -0.025893\n",
       "Ord                             0.015260\n",
       "Destination Lat                -0.009504\n",
       "Destination Long                0.057285\n",
       "Temperature                    -0.018446\n",
       "Pickup Lat                     -0.037883\n",
       "Pickup Long                     0.095268\n",
       "dist_geo                        0.250747\n",
       "dist_cir                        0.250716\n",
       "dur_osrm                        0.251167\n",
       "Precipitation in millimeters   -0.084503\n",
       "diff_lats                      -0.018707\n",
       "diff_lons                       0.018235\n",
       "rider_0                        -0.004965\n",
       "rider_1                         0.019216\n",
       "rider_2                         0.002329\n",
       "rider_3                        -0.002177\n",
       "rider_4                         0.019939\n",
       "rider_5                         0.014123\n",
       "rider_6                         0.030377\n",
       "rider_7                         0.004700\n",
       "rider_8                        -0.016539\n",
       "                                  ...   \n",
       "rider_90                       -0.023453\n",
       "rider_91                        0.010266\n",
       "rider_92                       -0.017622\n",
       "rider_93                       -0.003371\n",
       "rider_94                       -0.004208\n",
       "rider_95                        0.032009\n",
       "rider_96                        0.001569\n",
       "rider_97                       -0.012416\n",
       "rider_98                       -0.022611\n",
       "rider_99                       -0.003102\n",
       "rider_100                      -0.028108\n",
       "rider_101                      -0.006408\n",
       "rider_102                      -0.000564\n",
       "rider_103                       0.007163\n",
       "rider_104                      -0.005887\n",
       "rider_105                       0.024598\n",
       "rider_106                       0.008373\n",
       "rider_107                       0.007959\n",
       "rider_108                      -0.015972\n",
       "rider_109                       0.002993\n",
       "rider_110                       0.001141\n",
       "rider_111                      -0.020061\n",
       "rider_112                       0.006680\n",
       "rider_113                       0.020416\n",
       "rider_114                      -0.007149\n",
       "rider_115                      -0.004443\n",
       "rider_116                      -0.003016\n",
       "rider_117                       0.006527\n",
       "rider_118                      -0.003850\n",
       "speed                           1.000000\n",
       "Name: speed, Length: 141, dtype: float64"
      ]
     },
     "execution_count": 26,
     "metadata": {},
     "output_type": "execute_result"
    }
   ],
   "source": [
    "df_train[list_feat + ['speed']].corr().iloc[-1]"
   ]
  },
  {
   "cell_type": "code",
   "execution_count": null,
   "metadata": {
    "ExecuteTime": {
     "start_time": "2019-11-06T13:26:26.464Z"
    },
    "scrolled": true
   },
   "outputs": [
    {
     "name": "stdout",
     "output_type": "stream",
     "text": [
      "RMSE 783 params {'num_leaves': 56, 'learning_rate': 0.24880000000000002, 'min_child_samples': 229, 'feature_fraction': 0.30000000000000004, 'bagging_fraction': 0.15000000000000002, 'lambda_l2': 0.257, 'lambda_l1': 0.107, 'n_estimators': 205}\n",
      "RMSE 858 params {'num_leaves': 35, 'learning_rate': 0.43, 'min_child_samples': 237, 'feature_fraction': 0.45, 'bagging_fraction': 0.8, 'lambda_l2': 0.362, 'lambda_l1': 0.047, 'n_estimators': 575}\n",
      "RMSE 765 params {'num_leaves': 83, 'learning_rate': 0.026000000000000002, 'min_child_samples': 299, 'feature_fraction': 0.6000000000000001, 'bagging_fraction': 1.0, 'lambda_l2': 0.215, 'lambda_l1': 0.045, 'n_estimators': 603}\n",
      "RMSE 784 params {'num_leaves': 84, 'learning_rate': 0.3436, 'min_child_samples': 174, 'feature_fraction': 0.45, 'bagging_fraction': 0.4, 'lambda_l2': 0.13, 'lambda_l1': 0.221, 'n_estimators': 11}\n",
      "RMSE 786 params {'num_leaves': 35, 'learning_rate': 0.30720000000000003, 'min_child_samples': 243, 'feature_fraction': 0.7000000000000001, 'bagging_fraction': 0.5, 'lambda_l2': 0.149, 'lambda_l1': 0.232, 'n_estimators': 151}\n",
      "RMSE 771 params {'num_leaves': 38, 'learning_rate': 0.04, 'min_child_samples': 208, 'feature_fraction': 0.9500000000000001, 'bagging_fraction': 0.75, 'lambda_l2': 0.105, 'lambda_l1': 0.155, 'n_estimators': 881}\n",
      "RMSE 833 params {'num_leaves': 89, 'learning_rate': 0.3688, 'min_child_samples': 247, 'feature_fraction': 0.55, 'bagging_fraction': 0.30000000000000004, 'lambda_l2': 0.245, 'lambda_l1': 0.14, 'n_estimators': 586}\n",
      "RMSE 1004 params {'num_leaves': 72, 'learning_rate': 0.2566, 'min_child_samples': 34, 'feature_fraction': 0.7000000000000001, 'bagging_fraction': 0.45, 'lambda_l2': 0.187, 'lambda_l1': 0.358, 'n_estimators': 746}\n",
      "RMSE 793 params {'num_leaves': 43, 'learning_rate': 0.168, 'min_child_samples': 161, 'feature_fraction': 0.15000000000000002, 'bagging_fraction': 0.5, 'lambda_l2': 0.068, 'lambda_l1': 0.449, 'n_estimators': 804}\n",
      "RMSE 793 params {'num_leaves': 77, 'learning_rate': 0.08990000000000001, 'min_child_samples': 10, 'feature_fraction': 0.1, 'bagging_fraction': 0.6000000000000001, 'lambda_l2': 0.253, 'lambda_l1': 0.08700000000000001, 'n_estimators': 751}\n",
      "RMSE 782 params {'num_leaves': 65, 'learning_rate': 0.3316, 'min_child_samples': 34, 'feature_fraction': 0.15000000000000002, 'bagging_fraction': 0.6000000000000001, 'lambda_l2': 0.189, 'lambda_l1': 0.107, 'n_estimators': 15}\n",
      "RMSE 777 params {'num_leaves': 53, 'learning_rate': 0.1024, 'min_child_samples': 148, 'feature_fraction': 0.30000000000000004, 'bagging_fraction': 0.2, 'lambda_l2': 0.28300000000000003, 'lambda_l1': 0.095, 'n_estimators': 728}\n",
      "RMSE 876 params {'num_leaves': 77, 'learning_rate': 0.44220000000000004, 'min_child_samples': 126, 'feature_fraction': 0.8500000000000001, 'bagging_fraction': 1.0, 'lambda_l2': 0.166, 'lambda_l1': 0.251, 'n_estimators': 985}\n",
      "RMSE 799 params {'num_leaves': 81, 'learning_rate': 0.23040000000000002, 'min_child_samples': 209, 'feature_fraction': 0.9, 'bagging_fraction': 0.55, 'lambda_l2': 0.277, 'lambda_l1': 0.199, 'n_estimators': 373}\n",
      "RMSE 797 params {'num_leaves': 45, 'learning_rate': 0.22, 'min_child_samples': 267, 'feature_fraction': 0.8500000000000001, 'bagging_fraction': 0.2, 'lambda_l2': 0.316, 'lambda_l1': 0.091, 'n_estimators': 997}\n",
      "RMSE 792 params {'num_leaves': 65, 'learning_rate': 0.0896, 'min_child_samples': 20, 'feature_fraction': 0.65, 'bagging_fraction': 0.8, 'lambda_l2': 0.392, 'lambda_l1': 0.088, 'n_estimators': 877}\n",
      "RMSE 958 params {'num_leaves': 76, 'learning_rate': 0.42300000000000004, 'min_child_samples': 47, 'feature_fraction': 0.75, 'bagging_fraction': 0.5, 'lambda_l2': 0.47600000000000003, 'lambda_l1': 0.457, 'n_estimators': 124}\n",
      "RMSE 849 params {'num_leaves': 113, 'learning_rate': 0.3174, 'min_child_samples': 244, 'feature_fraction': 0.35000000000000003, 'bagging_fraction': 0.6000000000000001, 'lambda_l2': 0.11800000000000001, 'lambda_l1': 0.115, 'n_estimators': 927}\n",
      "RMSE 972 params {'num_leaves': 47, 'learning_rate': 0.3768, 'min_child_samples': 29, 'feature_fraction': 0.5, 'bagging_fraction': 0.45, 'lambda_l2': 0.245, 'lambda_l1': 0.223, 'n_estimators': 187}\n",
      "RMSE 838 params {'num_leaves': 90, 'learning_rate': 0.33540000000000003, 'min_child_samples': 286, 'feature_fraction': 0.5, 'bagging_fraction': 0.45, 'lambda_l2': 0.333, 'lambda_l1': 0.22, 'n_estimators': 992}\n",
      "RMSE 767 params {'num_leaves': 105, 'learning_rate': 0.014700000000000001, 'min_child_samples': 92, 'feature_fraction': 1.0, 'bagging_fraction': 1.0, 'lambda_l2': 0.027, 'lambda_l1': 0.002, 'n_estimators': 443}\n",
      "RMSE 768 params {'num_leaves': 103, 'learning_rate': 0.024300000000000002, 'min_child_samples': 86, 'feature_fraction': 1.0, 'bagging_fraction': 1.0, 'lambda_l2': 0.013000000000000001, 'lambda_l1': 0.001, 'n_estimators': 405}\n",
      "RMSE 803 params {'num_leaves': 118, 'learning_rate': 0.0012000000000000001, 'min_child_samples': 88, 'feature_fraction': 0.8, 'bagging_fraction': 0.9, 'lambda_l2': 0.014, 'lambda_l1': 0.006, 'n_estimators': 373}\n",
      "RMSE 810 params {'num_leaves': 100, 'learning_rate': 0.1464, 'min_child_samples': 78, 'feature_fraction': 1.0, 'bagging_fraction': 0.9, 'lambda_l2': 0.442, 'lambda_l1': 0.311, 'n_estimators': 489}\n",
      "RMSE 777 params {'num_leaves': 103, 'learning_rate': 0.050300000000000004, 'min_child_samples': 116, 'feature_fraction': 0.6000000000000001, 'bagging_fraction': 0.9, 'lambda_l2': 0.06, 'lambda_l1': 0.031, 'n_estimators': 607}\n",
      "RMSE 37924 params {'num_leaves': 126, 'learning_rate': 0.49960000000000004, 'min_child_samples': 68, 'feature_fraction': 0.35000000000000003, 'bagging_fraction': 0.7000000000000001, 'lambda_l2': 0.054, 'lambda_l1': 0.047, 'n_estimators': 289}\n",
      "RMSE 807 params {'num_leaves': 96, 'learning_rate': 0.152, 'min_child_samples': 111, 'feature_fraction': 0.9500000000000001, 'bagging_fraction': 0.9500000000000001, 'lambda_l2': 0.20800000000000002, 'lambda_l1': 0.166, 'n_estimators': 509}\n",
      "RMSE 787 params {'num_leaves': 112, 'learning_rate': 0.0026000000000000003, 'min_child_samples': 184, 'feature_fraction': 0.2, 'bagging_fraction': 0.7000000000000001, 'lambda_l2': 0.089, 'lambda_l1': 0.002, 'n_estimators': 648}\n",
      "RMSE 777 params {'num_leaves': 127, 'learning_rate': 0.11560000000000001, 'min_child_samples': 137, 'feature_fraction': 0.6000000000000001, 'bagging_fraction': 1.0, 'lambda_l2': 0.025, 'lambda_l1': 0.306, 'n_estimators': 261}\n",
      "RMSE 784 params {'num_leaves': 108, 'learning_rate': 0.0614, 'min_child_samples': 60, 'feature_fraction': 0.8, 'bagging_fraction': 0.8500000000000001, 'lambda_l2': 0.426, 'lambda_l1': 0.406, 'n_estimators': 466}\n",
      "RMSE 787 params {'num_leaves': 93, 'learning_rate': 0.1904, 'min_child_samples': 292, 'feature_fraction': 0.25, 'bagging_fraction': 0.8, 'lambda_l2': 0.21, 'lambda_l1': 0.049, 'n_estimators': 674}\n",
      "RMSE 786 params {'num_leaves': 68, 'learning_rate': 0.002, 'min_child_samples': 104, 'feature_fraction': 0.4, 'bagging_fraction': 0.9500000000000001, 'lambda_l2': 0.329, 'lambda_l1': 0.272, 'n_estimators': 535}\n",
      "RMSE 800 params {'num_leaves': 120, 'learning_rate': 0.26430000000000003, 'min_child_samples': 196, 'feature_fraction': 0.7000000000000001, 'bagging_fraction': 0.35000000000000003, 'lambda_l2': 0.14300000000000002, 'lambda_l1': 0.179, 'n_estimators': 305}\n",
      "RMSE 781 params {'num_leaves': 59, 'learning_rate': 0.0659, 'min_child_samples': 155, 'feature_fraction': 0.45, 'bagging_fraction': 0.1, 'lambda_l2': 0.357, 'lambda_l1': 0.06, 'n_estimators': 434}\n",
      "RMSE 769 params {'num_leaves': 86, 'learning_rate': 0.12860000000000002, 'min_child_samples': 224, 'feature_fraction': 0.9, 'bagging_fraction': 0.7000000000000001, 'lambda_l2': 0.088, 'lambda_l1': 0.024, 'n_estimators': 91}\n",
      "RMSE 797 params {'num_leaves': 95, 'learning_rate': 0.2867, 'min_child_samples': 272, 'feature_fraction': 0.6000000000000001, 'bagging_fraction': 0.8500000000000001, 'lambda_l2': 0.035, 'lambda_l1': 0.5, 'n_estimators': 340}\n",
      "RMSE 809 params {'num_leaves': 85, 'learning_rate': 0.1897, 'min_child_samples': 174, 'feature_fraction': 0.75, 'bagging_fraction': 0.75, 'lambda_l2': 0.291, 'lambda_l1': 0.125, 'n_estimators': 565}\n",
      "RMSE 773 params {'num_leaves': 57, 'learning_rate': 0.038400000000000004, 'min_child_samples': 93, 'feature_fraction': 0.55, 'bagging_fraction': 0.9500000000000001, 'lambda_l2': 0.167, 'lambda_l1': 0.14200000000000002, 'n_estimators': 825}\n"
     ]
    },
    {
     "name": "stdout",
     "output_type": "stream",
     "text": [
      "RMSE 784 params {'num_leaves': 118, 'learning_rate': 0.0794, 'min_child_samples': 132, 'feature_fraction': 0.65, 'bagging_fraction': 0.65, 'lambda_l2': 0.497, 'lambda_l1': 0.059000000000000004, 'n_estimators': 654}\n",
      "RMSE 772 params {'num_leaves': 107, 'learning_rate': 0.033800000000000004, 'min_child_samples': 55, 'feature_fraction': 0.4, 'bagging_fraction': 0.30000000000000004, 'lambda_l2': 0.395, 'lambda_l1': 0.353, 'n_estimators': 708}\n",
      "RMSE 790 params {'num_leaves': 73, 'learning_rate': 0.18960000000000002, 'min_child_samples': 227, 'feature_fraction': 0.1, 'bagging_fraction': 0.8500000000000001, 'lambda_l2': 0.125, 'lambda_l1': 0.022, 'n_estimators': 786}\n",
      "RMSE 766 params {'num_leaves': 99, 'learning_rate': 0.0158, 'min_child_samples': 170, 'feature_fraction': 0.9500000000000001, 'bagging_fraction': 0.75, 'lambda_l2': 0.217, 'lambda_l1': 0.193, 'n_estimators': 611}\n",
      "RMSE 781 params {'num_leaves': 80, 'learning_rate': 0.11320000000000001, 'min_child_samples': 253, 'feature_fraction': 0.9500000000000001, 'bagging_fraction': 0.65, 'lambda_l2': 0.20500000000000002, 'lambda_l1': 0.184, 'n_estimators': 576}\n",
      "RMSE 829 params {'num_leaves': 98, 'learning_rate': 0.22210000000000002, 'min_child_samples': 212, 'feature_fraction': 0.75, 'bagging_fraction': 0.75, 'lambda_l2': 0.233, 'lambda_l1': 0.254, 'n_estimators': 851}\n",
      "RMSE 799 params {'num_leaves': 90, 'learning_rate': 0.16490000000000002, 'min_child_samples': 194, 'feature_fraction': 0.5, 'bagging_fraction': 0.55, 'lambda_l2': 0.265, 'lambda_l1': 0.281, 'n_estimators': 763}\n",
      "RMSE 876 params {'num_leaves': 61, 'learning_rate': 0.47290000000000004, 'min_child_samples': 259, 'feature_fraction': 0.8500000000000001, 'bagging_fraction': 0.75, 'lambda_l2': 0.296, 'lambda_l1': 0.342, 'n_estimators': 611}\n",
      "RMSE 774 params {'num_leaves': 83, 'learning_rate': 0.0766, 'min_child_samples': 281, 'feature_fraction': 0.9, 'bagging_fraction': 0.8, 'lambda_l2': 0.17300000000000001, 'lambda_l1': 0.401, 'n_estimators': 692}\n",
      "RMSE 806 params {'num_leaves': 51, 'learning_rate': 0.1318, 'min_child_samples': 166, 'feature_fraction': 0.65, 'bagging_fraction': 0.65, 'lambda_l2': 0.23500000000000001, 'lambda_l1': 0.137, 'n_estimators': 923}\n",
      "RMSE 771 params {'num_leaves': 35, 'learning_rate': 0.0964, 'min_child_samples': 235, 'feature_fraction': 0.25, 'bagging_fraction': 0.5, 'lambda_l2': 0.14300000000000002, 'lambda_l1': 0.198, 'n_estimators': 537}\n",
      "RMSE 798 params {'num_leaves': 67, 'learning_rate': 0.2451, 'min_child_samples': 275, 'feature_fraction': 0.8, 'bagging_fraction': 0.4, 'lambda_l2': 0.364, 'lambda_l1': 0.381, 'n_estimators': 621}\n"
     ]
    }
   ],
   "source": [
    "def objective(params):\n",
    "    params = {\n",
    "        'num_leaves': int(params['num_leaves']),\n",
    "        'learning_rate' : params['learning_rate'],\n",
    "        'min_child_samples' : int(params['min_child_samples']),\n",
    "        'feature_fraction' : params['feature_fraction'],\n",
    "        'bagging_fraction' : params['bagging_fraction'],\n",
    "        'lambda_l2' : params['lambda_l2'],\n",
    "        'lambda_l1' : params['lambda_l1'],\n",
    "        'n_estimators' :  int(params['n_estimators'])\n",
    "    }    \n",
    "    gbm = lgb.LGBMRegressor(\n",
    "        min_data_per_group = 2,\n",
    "        reg_sqrt = True,\n",
    "        num_threads = 8,\n",
    "        objective = 'mse',\n",
    "        bagging_freq = 5,\n",
    "        boost_from_average = True,\n",
    "        seed = 42,\n",
    "        categorical_features = [0, 1],\n",
    "        **params\n",
    "    )\n",
    "    \n",
    "    score = rmse(df_train['Time from Pickup to Arrival'], \n",
    "                 3600 * df_train['Distance (KM)'] / (cross_val_predict(gbm, df_train[list_feat].values, \n",
    "                                                                        ((df_train['speed'])), \n",
    "                                                                        cv = KFold(n_splits = 3, \n",
    "                                                                        random_state = 18, \n",
    "                                                                        shuffle=True))))\n",
    "\n",
    "    print(\"RMSE {:.0f} params {}\".format(score, params))\n",
    "    return score\n",
    "\n",
    "space = {\n",
    "    'n_estimators' : hp.quniform('n_estimators', 10, 1000, 1),\n",
    "    'learning_rate' : hp.quniform('learning_rate', 0.0001, 0.5, 0.0001),\n",
    "    'min_child_samples' : hp.quniform('min_child_samples', 3, 300, 1),\n",
    "    'num_leaves' : hp.quniform('num_leaves', 32, 128, 1),\n",
    "    'feature_fraction' : hp.quniform('feature_fraction', 0.1, 1.0, 0.05),\n",
    "    'bagging_fraction' : hp.quniform('bagging_fraction', 0.1, 1.0, 0.05),\n",
    "    'lambda_l2' : hp.quniform('lambda_l2', 0.001, 0.5, 0.001),\n",
    "    'lambda_l1' : hp.quniform('lambda_l1', 0.001, 0.5, 0.001)\n",
    "}\n",
    "\n",
    "best = fmin(fn=objective,\n",
    "            space=space,\n",
    "            algo=tpe.suggest,\n",
    "            max_evals = 50)"
   ]
  },
  {
   "cell_type": "code",
   "execution_count": null,
   "metadata": {
    "ExecuteTime": {
     "start_time": "2019-11-06T13:26:26.474Z"
    }
   },
   "outputs": [
    {
     "data": {
      "text/plain": [
       "{'bagging_fraction': 1.0,\n",
       " 'feature_fraction': 0.6000000000000001,\n",
       " 'lambda_l1': 0.045,\n",
       " 'lambda_l2': 0.215,\n",
       " 'learning_rate': 0.026000000000000002,\n",
       " 'min_child_samples': 299.0,\n",
       " 'n_estimators': 603.0,\n",
       " 'num_leaves': 83.0}"
      ]
     },
     "execution_count": 28,
     "metadata": {},
     "output_type": "execute_result"
    }
   ],
   "source": [
    "best"
   ]
  },
  {
   "cell_type": "code",
   "execution_count": null,
   "metadata": {
    "ExecuteTime": {
     "start_time": "2019-11-06T13:26:26.492Z"
    }
   },
   "outputs": [
    {
     "name": "stdout",
     "output_type": "stream",
     "text": [
      "Hyperopt estimated optimum {'bagging_fraction': 1.0, 'feature_fraction': 0.6000000000000001, 'lambda_l1': 0.045, 'lambda_l2': 0.215, 'learning_rate': 0.026000000000000002, 'min_child_samples': 299.0, 'n_estimators': 603.0, 'num_leaves': 83.0}\n"
     ]
    }
   ],
   "source": [
    "print(\"Hyperopt estimated optimum {}\".format(best))\n",
    "\n",
    "best = {\n",
    "        'num_leaves': int(best['num_leaves']),\n",
    "        'learning_rate' : best['learning_rate'],\n",
    "        'min_child_samples' : int(best['min_child_samples']),\n",
    "        'feature_fraction' : best['feature_fraction'],\n",
    "        'bagging_fraction' : best['bagging_fraction'],\n",
    "        'lambda_l2' : best['lambda_l2'],\n",
    "        'lambda_l1' : best['lambda_l1'],\n",
    "        'n_estimators' :  int(best['n_estimators'])\n",
    "    }    \n",
    "\n",
    "gbm2 = lgb.LGBMRegressor(\n",
    "        min_data_per_group = 2,\n",
    "        reg_sqrt = True,\n",
    "        num_threads = 8,\n",
    "        objective = 'mse',\n",
    "        bagging_freq = 5,\n",
    "        boost_from_average = True,\n",
    "        seed = 42,\n",
    "        categorical_features = [0, 1],\n",
    "        **best\n",
    "    )"
   ]
  },
  {
   "cell_type": "code",
   "execution_count": null,
   "metadata": {
    "ExecuteTime": {
     "start_time": "2019-11-06T13:26:26.525Z"
    }
   },
   "outputs": [
    {
     "name": "stdout",
     "output_type": "stream",
     "text": [
      "775.8\n"
     ]
    },
    {
     "name": "stderr",
     "output_type": "stream",
     "text": [
      "C:\\Anaconda3\\lib\\site-packages\\ipykernel_launcher.py:2: SettingWithCopyWarning: \n",
      "A value is trying to be set on a copy of a slice from a DataFrame.\n",
      "Try using .loc[row_indexer,col_indexer] = value instead\n",
      "\n",
      "See the caveats in the documentation: http://pandas.pydata.org/pandas-docs/stable/indexing.html#indexing-view-versus-copy\n",
      "  \n"
     ]
    }
   ],
   "source": [
    "fitted = gbm2.fit(df_train[list_feat].values, (df_train['speed']))\n",
    "df_valid['predict'] = 3600 * df_valid['Distance (KM)'] / ((fitted.predict(df_valid[list_feat].values)))\n",
    "rmse_valid = np.round(rmse(df_valid['Time from Pickup to Arrival'], df_valid['predict']), 1)                           \n",
    "print(rmse_valid.mean())"
   ]
  },
  {
   "cell_type": "code",
   "execution_count": null,
   "metadata": {
    "ExecuteTime": {
     "start_time": "2019-11-06T13:26:26.535Z"
    }
   },
   "outputs": [
    {
     "name": "stdout",
     "output_type": "stream",
     "text": [
      "753.0\n"
     ]
    }
   ],
   "source": [
    "df_valid = df_valid[df_valid['speed'] < 200]\n",
    "df_valid = df_valid[df_valid['speed'] > 0.5]\n",
    "fitted = gbm2.fit(df_train[list_feat].values, (df_train['speed']))\n",
    "df_valid['predict'] =  3600 * df_valid['Distance (KM)'] / ((fitted.predict(df_valid[list_feat].values)))\n",
    "rmse_valid = np.round(rmse(df_valid['Time from Pickup to Arrival'], df_valid['predict']), 1)                           \n",
    "print(rmse_valid.mean())"
   ]
  },
  {
   "cell_type": "code",
   "execution_count": null,
   "metadata": {
    "ExecuteTime": {
     "start_time": "2019-11-06T13:26:26.551Z"
    }
   },
   "outputs": [],
   "source": [
    "df_train_full = df_train_full[df_train_full['speed'] < 200]\n",
    "df_train_full = df_train_full[df_train_full['speed'] > 0.5]"
   ]
  },
  {
   "cell_type": "code",
   "execution_count": null,
   "metadata": {
    "ExecuteTime": {
     "start_time": "2019-11-06T13:26:26.559Z"
    }
   },
   "outputs": [],
   "source": [
    "gbm2.fit(df_train_full[list_feat].values, (df_train_full['speed']))\n",
    "df_test['Time from Pickup to Arrival'] = 3600 * df_test['Distance (KM)'] / (gbm2.predict(df_test[list_feat]))\n",
    "df_test[['Order No', 'Time from Pickup to Arrival']].to_csv('sumbit_sendi_'+ str(date.today())+'_'+str(rmse_valid)+'.csv', index = False)"
   ]
  },
  {
   "cell_type": "code",
   "execution_count": null,
   "metadata": {
    "ExecuteTime": {
     "start_time": "2019-11-06T13:26:26.569Z"
    }
   },
   "outputs": [],
   "source": [
    "explainer2 = shap.TreeExplainer(gbm2)\n",
    "shap_values2 = explainer2.shap_values(df_train_full[list_feat])"
   ]
  },
  {
   "cell_type": "code",
   "execution_count": null,
   "metadata": {
    "ExecuteTime": {
     "start_time": "2019-11-06T13:26:26.578Z"
    }
   },
   "outputs": [],
   "source": [
    "shap_gr2 = shap.summary_plot(shap_values2, df_train_full[list_feat], max_display=50)\n",
    "plt.show()"
   ]
  },
  {
   "cell_type": "code",
   "execution_count": null,
   "metadata": {},
   "outputs": [],
   "source": []
  }
 ],
 "metadata": {
  "hide_input": false,
  "kernelspec": {
   "display_name": "Python 3",
   "language": "python",
   "name": "python3"
  },
  "language_info": {
   "codemirror_mode": {
    "name": "ipython",
    "version": 3
   },
   "file_extension": ".py",
   "mimetype": "text/x-python",
   "name": "python",
   "nbconvert_exporter": "python",
   "pygments_lexer": "ipython3",
   "version": "3.7.4"
  },
  "toc": {
   "base_numbering": 1,
   "nav_menu": {},
   "number_sections": true,
   "sideBar": true,
   "skip_h1_title": false,
   "title_cell": "Table of Contents",
   "title_sidebar": "Contents",
   "toc_cell": false,
   "toc_position": {},
   "toc_section_display": true,
   "toc_window_display": false
  },
  "varInspector": {
   "cols": {
    "lenName": 16,
    "lenType": 16,
    "lenVar": 40
   },
   "kernels_config": {
    "python": {
     "delete_cmd_postfix": "",
     "delete_cmd_prefix": "del ",
     "library": "var_list.py",
     "varRefreshCmd": "print(var_dic_list())"
    },
    "r": {
     "delete_cmd_postfix": ") ",
     "delete_cmd_prefix": "rm(",
     "library": "var_list.r",
     "varRefreshCmd": "cat(var_dic_list()) "
    }
   },
   "types_to_exclude": [
    "module",
    "function",
    "builtin_function_or_method",
    "instance",
    "_Feature"
   ],
   "window_display": false
  }
 },
 "nbformat": 4,
 "nbformat_minor": 2
}
