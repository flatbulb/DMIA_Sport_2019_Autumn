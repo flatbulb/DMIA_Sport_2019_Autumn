version https://git-lfs.github.com/spec/v1
oid sha256:6f0952db23043891b92664eb74cdf12547a97f64b33929f706c0b2ccfdbd6459
size 1878410
